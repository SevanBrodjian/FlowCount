{
 "cells": [
  {
   "cell_type": "code",
   "execution_count": 8,
   "id": "5c757bb5",
   "metadata": {},
   "outputs": [],
   "source": [
    "import os, time, random, math, pickle, json, shutil\n",
    "from pathlib import Path\n",
    "from datetime import datetime\n",
    "\n",
    "import torch, torchvision\n",
    "from torchinfo import summary\n",
    "from torch import nn\n",
    "from torch.utils.data import Dataset, DataLoader, random_split\n",
    "\n",
    "from tqdm.notebook import trange, tqdm\n",
    "import matplotlib.pyplot as plt\n",
    "import numpy as np"
   ]
  },
  {
   "cell_type": "code",
   "execution_count": 2,
   "id": "89ec2224",
   "metadata": {},
   "outputs": [
    {
     "name": "stdout",
     "output_type": "stream",
     "text": [
      "Logging to → C:\\Users\\Owner\\Documents\\FlowCount\\exp_20250602_102312\n"
     ]
    }
   ],
   "source": [
    "DATA_FILE          = \"dots100k_128.pt\"   # path to the .pt with {\"frames\",\"disp\"}\n",
    "BATCH_SZ           = 256\n",
    "NUM_EPOCHS         = 15\n",
    "LR                 = 2e-4\n",
    "WEIGHT_DECAY       = 1e-4\n",
    "RESNET_DEPTH       = 18       # choose 18, 34, 50, 101 …\n",
    "PRETRAINED         = False    # if True, load ImageNet weights then patch 1st conv\n",
    "USE_GRAYSCALE      = False    # if True, convert f0,f1,diff to 1-channel each\n",
    "\n",
    "TRAIN_FRACTION     = 0.8      # 80 % train, 10 % val, 10 % test\n",
    "VAL_FRACTION       = 0.1\n",
    "\n",
    "DEVICE             = \"cuda\" if torch.cuda.is_available() else \"cpu\"\n",
    "\n",
    "# Experiment folder\n",
    "EXP_DIR = Path(f\"exp_{datetime.now().strftime('%Y%m%d_%H%M%S')}\")\n",
    "EXP_DIR.mkdir(parents=True, exist_ok=True)\n",
    "print(f\"Logging to → {EXP_DIR.resolve()}\")"
   ]
  },
  {
   "cell_type": "markdown",
   "id": "4900ead7",
   "metadata": {},
   "source": [
    "## Prepare Dataset"
   ]
  },
  {
   "cell_type": "code",
   "execution_count": 3,
   "id": "288c48ea",
   "metadata": {},
   "outputs": [],
   "source": [
    "class DotPairDataset(Dataset):\n",
    "    \"\"\"\n",
    "    Each item:\n",
    "        x : Tensor  (C,H,W)  where C = 9 (RGB) or 3 (grayscale)\n",
    "        y : scalar  int32    total horizontal displacement\n",
    "    \"\"\"\n",
    "    def __init__(self, frames_uint8, disp_int32, grayscale=False):\n",
    "        assert frames_uint8.dtype == torch.uint8\n",
    "        self.F   = frames_uint8\n",
    "        self.disp = disp_int32\n",
    "        self.gray = grayscale\n",
    "\n",
    "    def __len__(self):\n",
    "        return self.disp.shape[0]\n",
    "\n",
    "    def _to_float(self, img_uint8):\n",
    "        return img_uint8.float().div_(255.)  # → [0,1]\n",
    "\n",
    "    def __getitem__(self, idx):\n",
    "        f0_u8 = self.F[idx]       # (3,H,W) uint8\n",
    "        f1_u8 = self.F[idx+1]\n",
    "        diff  = (f1_u8.to(torch.int16) - f0_u8.to(torch.int16)).clamp_(-255,255)\n",
    "        diff_u8 = (diff + 255).to(torch.uint8)   # shift to 0..510, still uint8\n",
    "\n",
    "        if not self.gray:\n",
    "            x = torch.cat([f0_u8, f1_u8, diff_u8], dim=0)   # (9,H,W)\n",
    "        else:\n",
    "            to_gray = lambda im: (0.299*im[0] + 0.587*im[1] + 0.114*im[2]).unsqueeze(0)\n",
    "            g0 = to_gray(f0_u8); g1 = to_gray(f1_u8); gd = to_gray(diff_u8)\n",
    "            x = torch.cat([g0, g1, gd], dim=0)              # (3,H,W)\n",
    "\n",
    "        x = self._to_float(x)\n",
    "        y = self.disp[idx].float()                # regression target\n",
    "        return x, y"
   ]
  },
  {
   "cell_type": "code",
   "execution_count": 4,
   "id": "0cabcc16",
   "metadata": {},
   "outputs": [
    {
     "name": "stderr",
     "output_type": "stream",
     "text": [
      "C:\\Users\\Owner\\AppData\\Local\\Temp\\ipykernel_2088\\3202958625.py:1: FutureWarning: You are using `torch.load` with `weights_only=False` (the current default value), which uses the default pickle module implicitly. It is possible to construct malicious pickle data which will execute arbitrary code during unpickling (See https://github.com/pytorch/pytorch/blob/main/SECURITY.md#untrusted-models for more details). In a future release, the default value for `weights_only` will be flipped to `True`. This limits the functions that could be executed during unpickling. Arbitrary objects will no longer be allowed to be loaded via this mode unless they are explicitly allowlisted by the user via `torch.serialization.add_safe_globals`. We recommend you start setting `weights_only=True` for any use case where you don't have full control of the loaded file. Please open an issue on GitHub for any issues related to this experimental feature.\n",
      "  raw = torch.load(DATA_FILE)\n"
     ]
    },
    {
     "name": "stdout",
     "output_type": "stream",
     "text": [
      "Dataset sizes — train: 80000, val: 10000, test: 10000\n"
     ]
    }
   ],
   "source": [
    "raw = torch.load(DATA_FILE)\n",
    "frames_u8, disp_i32 = raw[\"frames\"], raw[\"disp\"]\n",
    "\n",
    "full_ds   = DotPairDataset(frames_u8, disp_i32, grayscale=USE_GRAYSCALE)\n",
    "\n",
    "n_total   = len(full_ds)\n",
    "n_train   = int(TRAIN_FRACTION * n_total)\n",
    "n_val     = int(VAL_FRACTION   * n_total)\n",
    "n_test    = n_total - n_train - n_val\n",
    "\n",
    "train_ds, val_ds, test_ds = random_split(full_ds, [n_train, n_val, n_test],\n",
    "                                         generator=torch.Generator().manual_seed(0))\n",
    "\n",
    "train_ld = DataLoader(train_ds, batch_size=BATCH_SZ, shuffle=True,\n",
    "                      num_workers=4, pin_memory=True)\n",
    "val_ld   = DataLoader(val_ds,   batch_size=BATCH_SZ, shuffle=False,\n",
    "                      num_workers=4, pin_memory=True)\n",
    "test_ld  = DataLoader(test_ds,  batch_size=BATCH_SZ, shuffle=False,\n",
    "                      num_workers=4, pin_memory=True)\n",
    "\n",
    "print(f\"Dataset sizes — train: {n_train}, val: {n_val}, test: {n_test}\")"
   ]
  },
  {
   "cell_type": "code",
   "execution_count": 5,
   "id": "b548e12a",
   "metadata": {},
   "outputs": [
    {
     "name": "stderr",
     "output_type": "stream",
     "text": [
      "Clipping input data to the valid range for imshow with RGB data ([0..1] for floats or [0..255] for integers). Got range [-0.9490196..0.9490196].\n"
     ]
    },
    {
     "data": {
      "image/png": "[encoded data removed]",
      "text/plain": [
       "<Figure size 640x480 with 3 Axes>"
      ]
     },
     "metadata": {},
     "output_type": "display_data"
    }
   ],
   "source": [
    "idx = random.randrange(len(full_ds))\n",
    "(pair, label) = full_ds[idx]\n",
    "f0 = pair[0:3].permute(1, 2, 0).numpy()  # (H,W,3)\n",
    "f1 = pair[3:6].permute(1, 2, 0).numpy()\n",
    "\n",
    "plt.subplot(1, 3, 1)\n",
    "plt.title(\"Frame t\")\n",
    "plt.imshow(f0)\n",
    "plt.axis(\"off\")\n",
    "\n",
    "plt.subplot(1, 3, 2)\n",
    "plt.title(\"Frame t+1\")\n",
    "plt.imshow(f1)\n",
    "plt.axis(\"off\")\n",
    "\n",
    "plt.subplot(1, 3, 3)\n",
    "plt.title(f\"Δx = {int(label.item())} px\")\n",
    "diff = (f1 - f0)\n",
    "plt.imshow(diff)\n",
    "plt.axis(\"off\")\n",
    "\n",
    "plt.tight_layout()\n",
    "plt.show()"
   ]
  },
  {
   "cell_type": "markdown",
   "id": "a0513b16",
   "metadata": {},
   "source": [
    "## Load Model"
   ]
  },
  {
   "cell_type": "code",
   "execution_count": 6,
   "id": "39bee59c",
   "metadata": {},
   "outputs": [
    {
     "data": {
      "text/plain": [
       "=================================================================\n",
       "Layer (type:depth-idx)                   Param #\n",
       "=================================================================\n",
       "ResNet                                   --\n",
       "├─Conv2d: 1-1                            28,224\n",
       "├─BatchNorm2d: 1-2                       128\n",
       "├─ReLU: 1-3                              --\n",
       "├─MaxPool2d: 1-4                         --\n",
       "├─Sequential: 1-5                        --\n",
       "│    └─BasicBlock: 2-1                   --\n",
       "│    │    └─Conv2d: 3-1                  36,864\n",
       "│    │    └─BatchNorm2d: 3-2             128\n",
       "│    │    └─ReLU: 3-3                    --\n",
       "│    │    └─Conv2d: 3-4                  36,864\n",
       "│    │    └─BatchNorm2d: 3-5             128\n",
       "│    └─BasicBlock: 2-2                   --\n",
       "│    │    └─Conv2d: 3-6                  36,864\n",
       "│    │    └─BatchNorm2d: 3-7             128\n",
       "│    │    └─ReLU: 3-8                    --\n",
       "│    │    └─Conv2d: 3-9                  36,864\n",
       "│    │    └─BatchNorm2d: 3-10            128\n",
       "├─Sequential: 1-6                        --\n",
       "│    └─BasicBlock: 2-3                   --\n",
       "│    │    └─Conv2d: 3-11                 73,728\n",
       "│    │    └─BatchNorm2d: 3-12            256\n",
       "│    │    └─ReLU: 3-13                   --\n",
       "│    │    └─Conv2d: 3-14                 147,456\n",
       "│    │    └─BatchNorm2d: 3-15            256\n",
       "│    │    └─Sequential: 3-16             8,448\n",
       "│    └─BasicBlock: 2-4                   --\n",
       "│    │    └─Conv2d: 3-17                 147,456\n",
       "│    │    └─BatchNorm2d: 3-18            256\n",
       "│    │    └─ReLU: 3-19                   --\n",
       "│    │    └─Conv2d: 3-20                 147,456\n",
       "│    │    └─BatchNorm2d: 3-21            256\n",
       "├─Sequential: 1-7                        --\n",
       "│    └─BasicBlock: 2-5                   --\n",
       "│    │    └─Conv2d: 3-22                 294,912\n",
       "│    │    └─BatchNorm2d: 3-23            512\n",
       "│    │    └─ReLU: 3-24                   --\n",
       "│    │    └─Conv2d: 3-25                 589,824\n",
       "│    │    └─BatchNorm2d: 3-26            512\n",
       "│    │    └─Sequential: 3-27             33,280\n",
       "│    └─BasicBlock: 2-6                   --\n",
       "│    │    └─Conv2d: 3-28                 589,824\n",
       "│    │    └─BatchNorm2d: 3-29            512\n",
       "│    │    └─ReLU: 3-30                   --\n",
       "│    │    └─Conv2d: 3-31                 589,824\n",
       "│    │    └─BatchNorm2d: 3-32            512\n",
       "├─Sequential: 1-8                        --\n",
       "│    └─BasicBlock: 2-7                   --\n",
       "│    │    └─Conv2d: 3-33                 1,179,648\n",
       "│    │    └─BatchNorm2d: 3-34            1,024\n",
       "│    │    └─ReLU: 3-35                   --\n",
       "│    │    └─Conv2d: 3-36                 2,359,296\n",
       "│    │    └─BatchNorm2d: 3-37            1,024\n",
       "│    │    └─Sequential: 3-38             132,096\n",
       "│    └─BasicBlock: 2-8                   --\n",
       "│    │    └─Conv2d: 3-39                 2,359,296\n",
       "│    │    └─BatchNorm2d: 3-40            1,024\n",
       "│    │    └─ReLU: 3-41                   --\n",
       "│    │    └─Conv2d: 3-42                 2,359,296\n",
       "│    │    └─BatchNorm2d: 3-43            1,024\n",
       "├─AdaptiveAvgPool2d: 1-9                 --\n",
       "├─Linear: 1-10                           513\n",
       "=================================================================\n",
       "Total params: 11,195,841\n",
       "Trainable params: 11,195,841\n",
       "Non-trainable params: 0\n",
       "================================================================="
      ]
     },
     "execution_count": 6,
     "metadata": {},
     "output_type": "execute_result"
    }
   ],
   "source": [
    "def get_resnet(depth=18, in_channels=9, pretrained=False):\n",
    "    factory = {\n",
    "        18:  torchvision.models.resnet18,\n",
    "        34:  torchvision.models.resnet34,\n",
    "        50:  torchvision.models.resnet50,\n",
    "        101: torchvision.models.resnet101,\n",
    "        152: torchvision.models.resnet152,\n",
    "    }[depth]\n",
    "\n",
    "    model = factory(weights=\"IMAGENET1K_V1\" if pretrained else None)\n",
    "\n",
    "    # Patch the first conv if channel count differs\n",
    "    if in_channels != 3:\n",
    "        w = model.conv1.weight\n",
    "        model.conv1 = nn.Conv2d(in_channels, w.shape[0],\n",
    "                                kernel_size=7, stride=2, padding=3, bias=False)\n",
    "        if pretrained:\n",
    "            # Kaiming init for new conv\n",
    "            nn.init.kaiming_normal_(model.conv1.weight, mode=\"fan_out\", nonlinearity=\"relu\")\n",
    "\n",
    "    # Replace classifier with 1-unit head for regression\n",
    "    model.fc = nn.Linear(model.fc.in_features, 1)\n",
    "    return model\n",
    "\n",
    "C_IN   = 3 if USE_GRAYSCALE else 9\n",
    "net    = get_resnet(RESNET_DEPTH, in_channels=C_IN, pretrained=PRETRAINED).to(DEVICE)\n",
    "criterion = nn.L1Loss()\n",
    "optim     = torch.optim.AdamW(net.parameters(), lr=LR, weight_decay=WEIGHT_DECAY)\n",
    "\n",
    "summary(net)"
   ]
  },
  {
   "cell_type": "code",
   "execution_count": 7,
   "id": "e5cc74b4",
   "metadata": {},
   "outputs": [],
   "source": [
    "def run_epoch(model, loader, train=True):\n",
    "    if train: model.train()\n",
    "    else:     model.eval()\n",
    "\n",
    "    total_loss, n_samples = 0.0, 0\n",
    "    with torch.set_grad_enabled(train):\n",
    "        for x, y in loader:\n",
    "            x, y = x.to(DEVICE), y.to(DEVICE).unsqueeze(1)  # (B,1)\n",
    "            pred = model(x)\n",
    "            loss = criterion(pred, y)\n",
    "            if train:\n",
    "                optim.zero_grad(set_to_none=True)\n",
    "                loss.backward()\n",
    "                optim.step()\n",
    "            total_loss += loss.item() * x.size(0)\n",
    "            n_samples  += x.size(0)\n",
    "    return total_loss / n_samples    # MAE"
   ]
  },
  {
   "cell_type": "code",
   "execution_count": null,
   "id": "7090df9c",
   "metadata": {},
   "outputs": [
    {
     "ename": "ImportError",
     "evalue": "IProgress not found. Please update jupyter and ipywidgets. See https://ipywidgets.readthedocs.io/en/stable/user_install.html",
     "output_type": "error",
     "traceback": [
      "\u001b[1;31m---------------------------------------------------------------------------\u001b[0m",
      "\u001b[1;31mImportError\u001b[0m                               Traceback (most recent call last)",
      "Cell \u001b[1;32mIn[10], line 4\u001b[0m\n\u001b[0;32m      1\u001b[0m train_curve, val_curve \u001b[38;5;241m=\u001b[39m [], []\n\u001b[0;32m      2\u001b[0m best_val \u001b[38;5;241m=\u001b[39m \u001b[38;5;28mfloat\u001b[39m(\u001b[38;5;124m\"\u001b[39m\u001b[38;5;124minf\u001b[39m\u001b[38;5;124m\"\u001b[39m)\n\u001b[1;32m----> 4\u001b[0m \u001b[38;5;28;01mfor\u001b[39;00m epoch \u001b[38;5;129;01min\u001b[39;00m \u001b[43mtqdm\u001b[49m\u001b[43m(\u001b[49m\u001b[38;5;28;43mrange\u001b[39;49m\u001b[43m(\u001b[49m\u001b[38;5;241;43m1\u001b[39;49m\u001b[43m,\u001b[49m\u001b[43m \u001b[49m\u001b[43mNUM_EPOCHS\u001b[49m\u001b[38;5;241;43m+\u001b[39;49m\u001b[38;5;241;43m1\u001b[39;49m\u001b[43m)\u001b[49m\u001b[43m)\u001b[49m:\n\u001b[0;32m      5\u001b[0m     t0 \u001b[38;5;241m=\u001b[39m time\u001b[38;5;241m.\u001b[39mtime()\n\u001b[0;32m      6\u001b[0m     tr_loss \u001b[38;5;241m=\u001b[39m run_epoch(net, train_ld, train\u001b[38;5;241m=\u001b[39m\u001b[38;5;28;01mTrue\u001b[39;00m)\n",
      "File \u001b[1;32mc:\\Users\\Owner\\anaconda3\\envs\\diffusion\\Lib\\site-packages\\tqdm\\notebook.py:234\u001b[0m, in \u001b[0;36mtqdm_notebook.__init__\u001b[1;34m(self, *args, **kwargs)\u001b[0m\n\u001b[0;32m    232\u001b[0m unit_scale \u001b[38;5;241m=\u001b[39m \u001b[38;5;241m1\u001b[39m \u001b[38;5;28;01mif\u001b[39;00m \u001b[38;5;28mself\u001b[39m\u001b[38;5;241m.\u001b[39munit_scale \u001b[38;5;129;01mis\u001b[39;00m \u001b[38;5;28;01mTrue\u001b[39;00m \u001b[38;5;28;01melse\u001b[39;00m \u001b[38;5;28mself\u001b[39m\u001b[38;5;241m.\u001b[39munit_scale \u001b[38;5;129;01mor\u001b[39;00m \u001b[38;5;241m1\u001b[39m\n\u001b[0;32m    233\u001b[0m total \u001b[38;5;241m=\u001b[39m \u001b[38;5;28mself\u001b[39m\u001b[38;5;241m.\u001b[39mtotal \u001b[38;5;241m*\u001b[39m unit_scale \u001b[38;5;28;01mif\u001b[39;00m \u001b[38;5;28mself\u001b[39m\u001b[38;5;241m.\u001b[39mtotal \u001b[38;5;28;01melse\u001b[39;00m \u001b[38;5;28mself\u001b[39m\u001b[38;5;241m.\u001b[39mtotal\n\u001b[1;32m--> 234\u001b[0m \u001b[38;5;28mself\u001b[39m\u001b[38;5;241m.\u001b[39mcontainer \u001b[38;5;241m=\u001b[39m \u001b[38;5;28;43mself\u001b[39;49m\u001b[38;5;241;43m.\u001b[39;49m\u001b[43mstatus_printer\u001b[49m\u001b[43m(\u001b[49m\u001b[38;5;28;43mself\u001b[39;49m\u001b[38;5;241;43m.\u001b[39;49m\u001b[43mfp\u001b[49m\u001b[43m,\u001b[49m\u001b[43m \u001b[49m\u001b[43mtotal\u001b[49m\u001b[43m,\u001b[49m\u001b[43m \u001b[49m\u001b[38;5;28;43mself\u001b[39;49m\u001b[38;5;241;43m.\u001b[39;49m\u001b[43mdesc\u001b[49m\u001b[43m,\u001b[49m\u001b[43m \u001b[49m\u001b[38;5;28;43mself\u001b[39;49m\u001b[38;5;241;43m.\u001b[39;49m\u001b[43mncols\u001b[49m\u001b[43m)\u001b[49m\n\u001b[0;32m    235\u001b[0m \u001b[38;5;28mself\u001b[39m\u001b[38;5;241m.\u001b[39mcontainer\u001b[38;5;241m.\u001b[39mpbar \u001b[38;5;241m=\u001b[39m proxy(\u001b[38;5;28mself\u001b[39m)\n\u001b[0;32m    236\u001b[0m \u001b[38;5;28mself\u001b[39m\u001b[38;5;241m.\u001b[39mdisplayed \u001b[38;5;241m=\u001b[39m \u001b[38;5;28;01mFalse\u001b[39;00m\n",
      "File \u001b[1;32mc:\\Users\\Owner\\anaconda3\\envs\\diffusion\\Lib\\site-packages\\tqdm\\notebook.py:108\u001b[0m, in \u001b[0;36mtqdm_notebook.status_printer\u001b[1;34m(_, total, desc, ncols)\u001b[0m\n\u001b[0;32m     99\u001b[0m \u001b[38;5;66;03m# Fallback to text bar if there's no total\u001b[39;00m\n\u001b[0;32m    100\u001b[0m \u001b[38;5;66;03m# DEPRECATED: replaced with an 'info' style bar\u001b[39;00m\n\u001b[0;32m    101\u001b[0m \u001b[38;5;66;03m# if not total:\u001b[39;00m\n\u001b[1;32m   (...)\u001b[0m\n\u001b[0;32m    105\u001b[0m \n\u001b[0;32m    106\u001b[0m \u001b[38;5;66;03m# Prepare IPython progress bar\u001b[39;00m\n\u001b[0;32m    107\u001b[0m \u001b[38;5;28;01mif\u001b[39;00m IProgress \u001b[38;5;129;01mis\u001b[39;00m \u001b[38;5;28;01mNone\u001b[39;00m:  \u001b[38;5;66;03m# #187 #451 #558 #872\u001b[39;00m\n\u001b[1;32m--> 108\u001b[0m     \u001b[38;5;28;01mraise\u001b[39;00m \u001b[38;5;167;01mImportError\u001b[39;00m(WARN_NOIPYW)\n\u001b[0;32m    109\u001b[0m \u001b[38;5;28;01mif\u001b[39;00m total:\n\u001b[0;32m    110\u001b[0m     pbar \u001b[38;5;241m=\u001b[39m IProgress(\u001b[38;5;28mmin\u001b[39m\u001b[38;5;241m=\u001b[39m\u001b[38;5;241m0\u001b[39m, \u001b[38;5;28mmax\u001b[39m\u001b[38;5;241m=\u001b[39mtotal)\n",
      "\u001b[1;31mImportError\u001b[0m: IProgress not found. Please update jupyter and ipywidgets. See https://ipywidgets.readthedocs.io/en/stable/user_install.html"
     ]
    }
   ],
   "source": [
    "train_curve, val_curve = [], []\n",
    "best_val = float(\"inf\")\n",
    "\n",
    "for epoch in trange(1, NUM_EPOCHS+1):\n",
    "    t0 = time.time()\n",
    "    tr_loss = run_epoch(net, train_ld, train=True)\n",
    "    val_loss = run_epoch(net, val_ld,   train=False)\n",
    "\n",
    "    train_curve.append(tr_loss)\n",
    "    val_curve.append(val_loss)\n",
    "\n",
    "    # -- console log\n",
    "    print(f\"[{epoch:02d}/{NUM_EPOCHS}]  \"\n",
    "          f\"train MAE {tr_loss:.4f} | val MAE {val_loss:.4f}  \"\n",
    "          f\"({time.time()-t0:.1f}s)\")\n",
    "\n",
    "    # -- checkpointing\n",
    "    last_path = EXP_DIR / \"last_weights.pt\"\n",
    "    best_path = EXP_DIR / \"best_weights.pt\"\n",
    "    torch.save({\"epoch\": epoch,\n",
    "                \"state_dict\": net.state_dict(),\n",
    "                \"train_loss\": tr_loss,\n",
    "                \"val_loss\": val_loss},\n",
    "               last_path)\n",
    "\n",
    "    if val_loss < best_val:\n",
    "        best_val = val_loss\n",
    "        shutil.copy(last_path, best_path)\n",
    "        print(f\"  ↳ new best! ({best_val:.4f}) checkpointed.\")"
   ]
  }
 ],
 "metadata": {
  "kernelspec": {
   "display_name": "diffusion",
   "language": "python",
   "name": "python3"
  },
  "language_info": {
   "codemirror_mode": {
    "name": "ipython",
    "version": 3
   },
   "file_extension": ".py",
   "mimetype": "text/x-python",
   "name": "python",
   "nbconvert_exporter": "python",
   "pygments_lexer": "ipython3",
   "version": "3.12.7"
  }
 },
 "nbformat": 4,
 "nbformat_minor": 5
}
