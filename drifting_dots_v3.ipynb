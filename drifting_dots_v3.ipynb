{
 "cells": [
  {
   "cell_type": "code",
   "execution_count": 1,
   "id": "5c757bb5",
   "metadata": {},
   "outputs": [],
   "source": [
    "import os, time, random, math, pickle, json, shutil\n",
    "from pathlib import Path\n",
    "from datetime import datetime\n",
    "\n",
    "import torch, torchvision\n",
    "from torchinfo import summary\n",
    "from torch import nn\n",
    "from torch.utils.data import Dataset, DataLoader, random_split\n",
    "\n",
    "from tqdm.notebook import trange, tqdm\n",
    "import matplotlib.pyplot as plt\n",
    "import numpy as np"
   ]
  },
  {
   "cell_type": "code",
   "execution_count": 58,
   "id": "89ec2224",
   "metadata": {},
   "outputs": [
    {
     "name": "stdout",
     "output_type": "stream",
     "text": [
      "Logging to → C:\\Users\\Owner\\Documents\\FlowCount\\experiments\\exp_20250602_160724\n"
     ]
    }
   ],
   "source": [
    "DATA_FILE          = \"dots100k_128.pt\"   # path to the .pt with {\"frames\",\"disp\"}\n",
    "BATCH_SZ           = 256\n",
    "NUM_EPOCHS         = 15\n",
    "LR                 = 2e-4\n",
    "WEIGHT_DECAY       = 1e-4\n",
    "RESNET_DEPTH       = 18       # choose 18, 34, 50, 101 …\n",
    "PRETRAINED         = False    # if True, load ImageNet weights then patch 1st conv\n",
    "USE_GRAYSCALE      = False    # if True, convert f0,f1,diff to 1-channel each\n",
    "\n",
    "TRAIN_FRACTION     = 0.8      # 80 % train, 10 % val, 10 % test\n",
    "VAL_FRACTION       = 0.1\n",
    "\n",
    "DEVICE             = \"cuda\" if torch.cuda.is_available() else \"cpu\"\n",
    "\n",
    "# Experiment folder\n",
    "EXP_DIR = Path(f\"experiments/exp_{datetime.now().strftime('%Y%m%d_%H%M%S')}\")\n",
    "EXP_DIR.mkdir(parents=True, exist_ok=True)\n",
    "print(f\"Logging to → {EXP_DIR.resolve()}\")"
   ]
  },
  {
   "cell_type": "markdown",
   "id": "4900ead7",
   "metadata": {},
   "source": [
    "## Prepare Dataset"
   ]
  },
  {
   "cell_type": "code",
   "execution_count": 3,
   "id": "288c48ea",
   "metadata": {},
   "outputs": [],
   "source": [
    "class DotPairDataset(Dataset):\n",
    "    \"\"\"\n",
    "    Each item:\n",
    "        x : Tensor  (C,H,W)  where C = 9 (RGB) or 3 (grayscale)\n",
    "        y : scalar  int32    total horizontal displacement\n",
    "    \"\"\"\n",
    "    def __init__(self, frames_uint8, disp_int32, grayscale=False):\n",
    "        assert frames_uint8.dtype == torch.uint8\n",
    "        self.F   = frames_uint8\n",
    "        self.disp = disp_int32\n",
    "        self.gray = grayscale\n",
    "\n",
    "    def __len__(self):\n",
    "        return self.disp.shape[0]\n",
    "\n",
    "    def _to_float(self, img_uint8):\n",
    "        return img_uint8.float().div_(255.)  # → [0,1]\n",
    "\n",
    "    def __getitem__(self, idx):\n",
    "        f0_u8 = self.F[idx]       # (3,H,W) uint8\n",
    "        f1_u8 = self.F[idx+1]\n",
    "        diff  = (f1_u8.to(torch.int16) - f0_u8.to(torch.int16)).clamp_(-255,255)\n",
    "        diff_u8 = (diff + 255).to(torch.uint8)   # shift to 0..510, still uint8\n",
    "\n",
    "        if not self.gray:\n",
    "            x = torch.cat([f0_u8, f1_u8, diff_u8], dim=0)   # (9,H,W)\n",
    "        else:\n",
    "            to_gray = lambda im: (0.299*im[0] + 0.587*im[1] + 0.114*im[2]).unsqueeze(0)\n",
    "            g0 = to_gray(f0_u8); g1 = to_gray(f1_u8); gd = to_gray(diff_u8)\n",
    "            x = torch.cat([g0, g1, gd], dim=0)              # (3,H,W)\n",
    "\n",
    "        x = self._to_float(x)\n",
    "        y = self.disp[idx].float()                # regression target\n",
    "        return x, y"
   ]
  },
  {
   "cell_type": "code",
   "execution_count": 4,
   "id": "0cabcc16",
   "metadata": {},
   "outputs": [
    {
     "name": "stderr",
     "output_type": "stream",
     "text": [
      "C:\\Users\\Owner\\AppData\\Local\\Temp\\ipykernel_71012\\3254421575.py:1: FutureWarning: You are using `torch.load` with `weights_only=False` (the current default value), which uses the default pickle module implicitly. It is possible to construct malicious pickle data which will execute arbitrary code during unpickling (See https://github.com/pytorch/pytorch/blob/main/SECURITY.md#untrusted-models for more details). In a future release, the default value for `weights_only` will be flipped to `True`. This limits the functions that could be executed during unpickling. Arbitrary objects will no longer be allowed to be loaded via this mode unless they are explicitly allowlisted by the user via `torch.serialization.add_safe_globals`. We recommend you start setting `weights_only=True` for any use case where you don't have full control of the loaded file. Please open an issue on GitHub for any issues related to this experimental feature.\n",
      "  raw = torch.load(DATA_FILE)\n"
     ]
    },
    {
     "name": "stdout",
     "output_type": "stream",
     "text": [
      "Dataset sizes — train: 80000, val: 10000, test: 10000\n"
     ]
    }
   ],
   "source": [
    "raw = torch.load(DATA_FILE)\n",
    "frames_u8, disp_i32 = raw[\"frames\"], raw[\"disp\"]\n",
    "\n",
    "full_ds   = DotPairDataset(frames_u8, disp_i32, grayscale=USE_GRAYSCALE)\n",
    "\n",
    "n_total   = len(full_ds)\n",
    "n_train   = int(TRAIN_FRACTION * n_total)\n",
    "n_val     = int(VAL_FRACTION   * n_total)\n",
    "n_test    = n_total - n_train - n_val\n",
    "\n",
    "train_ds, val_ds, test_ds = random_split(full_ds, [n_train, n_val, n_test],\n",
    "                                         generator=torch.Generator().manual_seed(0))\n",
    "\n",
    "train_ld = DataLoader(train_ds, batch_size=BATCH_SZ, shuffle=True,\n",
    "                      num_workers=0, pin_memory=True)\n",
    "val_ld   = DataLoader(val_ds,   batch_size=BATCH_SZ, shuffle=False,\n",
    "                      num_workers=0, pin_memory=True)\n",
    "test_ld  = DataLoader(test_ds,  batch_size=BATCH_SZ, shuffle=False,\n",
    "                      num_workers=0, pin_memory=True)\n",
    "\n",
    "print(f\"Dataset sizes — train: {n_train}, val: {n_val}, test: {n_test}\")"
   ]
  },
  {
   "cell_type": "code",
   "execution_count": 5,
   "id": "b548e12a",
   "metadata": {},
   "outputs": [
    {
     "name": "stderr",
     "output_type": "stream",
     "text": [
      "Clipping input data to the valid range for imshow with RGB data ([0..1] for floats or [0..255] for integers). Got range [-0.6117647..0.6117647].\n"
     ]
    },
    {
     "data": {
      "image/png": "[encoded data removed]",
      "text/plain": [
       "<Figure size 640x480 with 3 Axes>"
      ]
     },
     "metadata": {},
     "output_type": "display_data"
    }
   ],
   "source": [
    "idx = random.randrange(len(full_ds))\n",
    "(pair, label) = full_ds[idx]\n",
    "f0 = pair[0:3].permute(1, 2, 0).numpy()  # (H,W,3)\n",
    "f1 = pair[3:6].permute(1, 2, 0).numpy()\n",
    "\n",
    "plt.subplot(1, 3, 1)\n",
    "plt.title(\"Frame t\")\n",
    "plt.imshow(f0)\n",
    "plt.axis(\"off\")\n",
    "\n",
    "plt.subplot(1, 3, 2)\n",
    "plt.title(\"Frame t+1\")\n",
    "plt.imshow(f1)\n",
    "plt.axis(\"off\")\n",
    "\n",
    "plt.subplot(1, 3, 3)\n",
    "plt.title(f\"Δx = {int(label.item())} px\")\n",
    "diff = (f1 - f0)\n",
    "plt.imshow(diff)\n",
    "plt.axis(\"off\")\n",
    "\n",
    "plt.tight_layout()\n",
    "plt.show()"
   ]
  },
  {
   "cell_type": "markdown",
   "id": "a0513b16",
   "metadata": {},
   "source": [
    "## Load Model"
   ]
  },
  {
   "cell_type": "code",
   "execution_count": 6,
   "id": "39bee59c",
   "metadata": {},
   "outputs": [
    {
     "data": {
      "text/plain": [
       "=================================================================\n",
       "Layer (type:depth-idx)                   Param #\n",
       "=================================================================\n",
       "ResNet                                   --\n",
       "├─Conv2d: 1-1                            28,224\n",
       "├─BatchNorm2d: 1-2                       128\n",
       "├─ReLU: 1-3                              --\n",
       "├─MaxPool2d: 1-4                         --\n",
       "├─Sequential: 1-5                        --\n",
       "│    └─BasicBlock: 2-1                   --\n",
       "│    │    └─Conv2d: 3-1                  36,864\n",
       "│    │    └─BatchNorm2d: 3-2             128\n",
       "│    │    └─ReLU: 3-3                    --\n",
       "│    │    └─Conv2d: 3-4                  36,864\n",
       "│    │    └─BatchNorm2d: 3-5             128\n",
       "│    └─BasicBlock: 2-2                   --\n",
       "│    │    └─Conv2d: 3-6                  36,864\n",
       "│    │    └─BatchNorm2d: 3-7             128\n",
       "│    │    └─ReLU: 3-8                    --\n",
       "│    │    └─Conv2d: 3-9                  36,864\n",
       "│    │    └─BatchNorm2d: 3-10            128\n",
       "├─Sequential: 1-6                        --\n",
       "│    └─BasicBlock: 2-3                   --\n",
       "│    │    └─Conv2d: 3-11                 73,728\n",
       "│    │    └─BatchNorm2d: 3-12            256\n",
       "│    │    └─ReLU: 3-13                   --\n",
       "│    │    └─Conv2d: 3-14                 147,456\n",
       "│    │    └─BatchNorm2d: 3-15            256\n",
       "│    │    └─Sequential: 3-16             8,448\n",
       "│    └─BasicBlock: 2-4                   --\n",
       "│    │    └─Conv2d: 3-17                 147,456\n",
       "│    │    └─BatchNorm2d: 3-18            256\n",
       "│    │    └─ReLU: 3-19                   --\n",
       "│    │    └─Conv2d: 3-20                 147,456\n",
       "│    │    └─BatchNorm2d: 3-21            256\n",
       "├─Sequential: 1-7                        --\n",
       "│    └─BasicBlock: 2-5                   --\n",
       "│    │    └─Conv2d: 3-22                 294,912\n",
       "│    │    └─BatchNorm2d: 3-23            512\n",
       "│    │    └─ReLU: 3-24                   --\n",
       "│    │    └─Conv2d: 3-25                 589,824\n",
       "│    │    └─BatchNorm2d: 3-26            512\n",
       "│    │    └─Sequential: 3-27             33,280\n",
       "│    └─BasicBlock: 2-6                   --\n",
       "│    │    └─Conv2d: 3-28                 589,824\n",
       "│    │    └─BatchNorm2d: 3-29            512\n",
       "│    │    └─ReLU: 3-30                   --\n",
       "│    │    └─Conv2d: 3-31                 589,824\n",
       "│    │    └─BatchNorm2d: 3-32            512\n",
       "├─Sequential: 1-8                        --\n",
       "│    └─BasicBlock: 2-7                   --\n",
       "│    │    └─Conv2d: 3-33                 1,179,648\n",
       "│    │    └─BatchNorm2d: 3-34            1,024\n",
       "│    │    └─ReLU: 3-35                   --\n",
       "│    │    └─Conv2d: 3-36                 2,359,296\n",
       "│    │    └─BatchNorm2d: 3-37            1,024\n",
       "│    │    └─Sequential: 3-38             132,096\n",
       "│    └─BasicBlock: 2-8                   --\n",
       "│    │    └─Conv2d: 3-39                 2,359,296\n",
       "│    │    └─BatchNorm2d: 3-40            1,024\n",
       "│    │    └─ReLU: 3-41                   --\n",
       "│    │    └─Conv2d: 3-42                 2,359,296\n",
       "│    │    └─BatchNorm2d: 3-43            1,024\n",
       "├─AdaptiveAvgPool2d: 1-9                 --\n",
       "├─Linear: 1-10                           513\n",
       "=================================================================\n",
       "Total params: 11,195,841\n",
       "Trainable params: 11,195,841\n",
       "Non-trainable params: 0\n",
       "================================================================="
      ]
     },
     "execution_count": 6,
     "metadata": {},
     "output_type": "execute_result"
    }
   ],
   "source": [
    "def get_resnet(depth=18, in_channels=9, pretrained=False):\n",
    "    factory = {\n",
    "        18:  torchvision.models.resnet18,\n",
    "        34:  torchvision.models.resnet34,\n",
    "        50:  torchvision.models.resnet50,\n",
    "        101: torchvision.models.resnet101,\n",
    "        152: torchvision.models.resnet152,\n",
    "    }[depth]\n",
    "\n",
    "    model = factory(weights=\"IMAGENET1K_V1\" if pretrained else None)\n",
    "\n",
    "    # Patch the first conv if channel count differs\n",
    "    if in_channels != 3:\n",
    "        w = model.conv1.weight\n",
    "        model.conv1 = nn.Conv2d(in_channels, w.shape[0],\n",
    "                                kernel_size=7, stride=2, padding=3, bias=False)\n",
    "        if pretrained:\n",
    "            # Kaiming init for new conv\n",
    "            nn.init.kaiming_normal_(model.conv1.weight, mode=\"fan_out\", nonlinearity=\"relu\")\n",
    "\n",
    "    # Replace classifier with 1-unit head for regression\n",
    "    model.fc = nn.Linear(model.fc.in_features, 1)\n",
    "    return model\n",
    "\n",
    "C_IN   = 3 if USE_GRAYSCALE else 9\n",
    "net    = get_resnet(RESNET_DEPTH, in_channels=C_IN, pretrained=PRETRAINED).to(DEVICE)\n",
    "criterion = nn.L1Loss()\n",
    "optim     = torch.optim.AdamW(net.parameters(), lr=LR, weight_decay=WEIGHT_DECAY)\n",
    "\n",
    "summary(net)"
   ]
  },
  {
   "cell_type": "markdown",
   "id": "e0b5846a",
   "metadata": {},
   "source": [
    "## Train Model"
   ]
  },
  {
   "cell_type": "code",
   "execution_count": 7,
   "id": "e5cc74b4",
   "metadata": {},
   "outputs": [],
   "source": [
    "def run_epoch(model, loader, train=True):\n",
    "    if train: model.train()\n",
    "    else:     model.eval()\n",
    "\n",
    "    total_loss, n_samples = 0.0, 0\n",
    "    with torch.set_grad_enabled(train):\n",
    "        for x, y in tqdm(loader, desc=\"Batch\"):\n",
    "            x, y = x.to(DEVICE), y.to(DEVICE).unsqueeze(1)  # (B,1)\n",
    "            pred = model(x)\n",
    "            loss = criterion(pred, y)\n",
    "            if train:\n",
    "                optim.zero_grad(set_to_none=True)\n",
    "                loss.backward()\n",
    "                optim.step()\n",
    "            total_loss += loss.item() * x.size(0)\n",
    "            n_samples  += x.size(0)\n",
    "    return total_loss / n_samples    # MAE"
   ]
  },
  {
   "cell_type": "code",
   "execution_count": 8,
   "id": "7090df9c",
   "metadata": {},
   "outputs": [
    {
     "data": {
      "application/vnd.jupyter.widget-view+json": {
       "model_id": "df68778591d54b048e853b580dc946c1",
       "version_major": 2,
       "version_minor": 0
      },
      "text/plain": [
       "Epoch:   0%|          | 0/15 [00:00<?, ?it/s]"
      ]
     },
     "metadata": {},
     "output_type": "display_data"
    },
    {
     "data": {
      "application/vnd.jupyter.widget-view+json": {
       "model_id": "09ceb80dad114b7bb0c42d482aa765d7",
       "version_major": 2,
       "version_minor": 0
      },
      "text/plain": [
       "Batch:   0%|          | 0/313 [00:00<?, ?it/s]"
      ]
     },
     "metadata": {},
     "output_type": "display_data"
    },
    {
     "data": {
      "application/vnd.jupyter.widget-view+json": {
       "model_id": "2b7803b2be574bb9afc031719b24dc90",
       "version_major": 2,
       "version_minor": 0
      },
      "text/plain": [
       "Batch:   0%|          | 0/40 [00:00<?, ?it/s]"
      ]
     },
     "metadata": {},
     "output_type": "display_data"
    },
    {
     "name": "stdout",
     "output_type": "stream",
     "text": [
      "[01/15]  train MAE 0.8795 | val MAE 1.3346  (71.3s)\n",
      "  ↳ new best! (1.3346) checkpointed.\n"
     ]
    },
    {
     "data": {
      "application/vnd.jupyter.widget-view+json": {
       "model_id": "2bb18f93768c4f9a8d3067050f89b8bb",
       "version_major": 2,
       "version_minor": 0
      },
      "text/plain": [
       "Batch:   0%|          | 0/313 [00:00<?, ?it/s]"
      ]
     },
     "metadata": {},
     "output_type": "display_data"
    },
    {
     "data": {
      "application/vnd.jupyter.widget-view+json": {
       "model_id": "a26b41cfabb34315b4ed8fedab18cd98",
       "version_major": 2,
       "version_minor": 0
      },
      "text/plain": [
       "Batch:   0%|          | 0/40 [00:00<?, ?it/s]"
      ]
     },
     "metadata": {},
     "output_type": "display_data"
    },
    {
     "name": "stdout",
     "output_type": "stream",
     "text": [
      "[02/15]  train MAE 0.6433 | val MAE 0.8698  (71.4s)\n",
      "  ↳ new best! (0.8698) checkpointed.\n"
     ]
    },
    {
     "data": {
      "application/vnd.jupyter.widget-view+json": {
       "model_id": "3e2596e2879549b6a70f0504be741dad",
       "version_major": 2,
       "version_minor": 0
      },
      "text/plain": [
       "Batch:   0%|          | 0/313 [00:00<?, ?it/s]"
      ]
     },
     "metadata": {},
     "output_type": "display_data"
    },
    {
     "data": {
      "application/vnd.jupyter.widget-view+json": {
       "model_id": "70cd2e9d0fa544cda737eff8bd6c43d8",
       "version_major": 2,
       "version_minor": 0
      },
      "text/plain": [
       "Batch:   0%|          | 0/40 [00:00<?, ?it/s]"
      ]
     },
     "metadata": {},
     "output_type": "display_data"
    },
    {
     "name": "stdout",
     "output_type": "stream",
     "text": [
      "[03/15]  train MAE 0.6128 | val MAE 4.9795  (74.2s)\n"
     ]
    },
    {
     "data": {
      "application/vnd.jupyter.widget-view+json": {
       "model_id": "c6c57d7d325741538dd4d62351f71591",
       "version_major": 2,
       "version_minor": 0
      },
      "text/plain": [
       "Batch:   0%|          | 0/313 [00:00<?, ?it/s]"
      ]
     },
     "metadata": {},
     "output_type": "display_data"
    },
    {
     "data": {
      "application/vnd.jupyter.widget-view+json": {
       "model_id": "b5b543dccd4d40a1af8d13386c786f20",
       "version_major": 2,
       "version_minor": 0
      },
      "text/plain": [
       "Batch:   0%|          | 0/40 [00:00<?, ?it/s]"
      ]
     },
     "metadata": {},
     "output_type": "display_data"
    },
    {
     "name": "stdout",
     "output_type": "stream",
     "text": [
      "[04/15]  train MAE 0.6055 | val MAE 2.0340  (76.6s)\n"
     ]
    },
    {
     "data": {
      "application/vnd.jupyter.widget-view+json": {
       "model_id": "93838682643444c7856d29edc1dbfef1",
       "version_major": 2,
       "version_minor": 0
      },
      "text/plain": [
       "Batch:   0%|          | 0/313 [00:00<?, ?it/s]"
      ]
     },
     "metadata": {},
     "output_type": "display_data"
    },
    {
     "data": {
      "application/vnd.jupyter.widget-view+json": {
       "model_id": "f2f1fdb416e14d5594fe653a758cf2f4",
       "version_major": 2,
       "version_minor": 0
      },
      "text/plain": [
       "Batch:   0%|          | 0/40 [00:00<?, ?it/s]"
      ]
     },
     "metadata": {},
     "output_type": "display_data"
    },
    {
     "name": "stdout",
     "output_type": "stream",
     "text": [
      "[05/15]  train MAE 0.5806 | val MAE 0.5858  (75.6s)\n",
      "  ↳ new best! (0.5858) checkpointed.\n"
     ]
    },
    {
     "data": {
      "application/vnd.jupyter.widget-view+json": {
       "model_id": "c0fb8bcbe891499fa4552bcbca68ef86",
       "version_major": 2,
       "version_minor": 0
      },
      "text/plain": [
       "Batch:   0%|          | 0/313 [00:00<?, ?it/s]"
      ]
     },
     "metadata": {},
     "output_type": "display_data"
    },
    {
     "data": {
      "application/vnd.jupyter.widget-view+json": {
       "model_id": "019bb89b2a1049d0a98bc8a777749cdb",
       "version_major": 2,
       "version_minor": 0
      },
      "text/plain": [
       "Batch:   0%|          | 0/40 [00:00<?, ?it/s]"
      ]
     },
     "metadata": {},
     "output_type": "display_data"
    },
    {
     "name": "stdout",
     "output_type": "stream",
     "text": [
      "[06/15]  train MAE 0.5763 | val MAE 0.7404  (71.2s)\n"
     ]
    },
    {
     "data": {
      "application/vnd.jupyter.widget-view+json": {
       "model_id": "6a27e5fd7a5641c3885e678e39f3de71",
       "version_major": 2,
       "version_minor": 0
      },
      "text/plain": [
       "Batch:   0%|          | 0/313 [00:00<?, ?it/s]"
      ]
     },
     "metadata": {},
     "output_type": "display_data"
    },
    {
     "data": {
      "application/vnd.jupyter.widget-view+json": {
       "model_id": "bda99aa121444ef9819428e8d4f391b2",
       "version_major": 2,
       "version_minor": 0
      },
      "text/plain": [
       "Batch:   0%|          | 0/40 [00:00<?, ?it/s]"
      ]
     },
     "metadata": {},
     "output_type": "display_data"
    },
    {
     "name": "stdout",
     "output_type": "stream",
     "text": [
      "[07/15]  train MAE 0.5545 | val MAE 0.5787  (73.8s)\n",
      "  ↳ new best! (0.5787) checkpointed.\n"
     ]
    },
    {
     "data": {
      "application/vnd.jupyter.widget-view+json": {
       "model_id": "e086f5efd7a9470ea88c326aee52c885",
       "version_major": 2,
       "version_minor": 0
      },
      "text/plain": [
       "Batch:   0%|          | 0/313 [00:00<?, ?it/s]"
      ]
     },
     "metadata": {},
     "output_type": "display_data"
    },
    {
     "data": {
      "application/vnd.jupyter.widget-view+json": {
       "model_id": "3cff4dc7483240ff97670a147e4b50fa",
       "version_major": 2,
       "version_minor": 0
      },
      "text/plain": [
       "Batch:   0%|          | 0/40 [00:00<?, ?it/s]"
      ]
     },
     "metadata": {},
     "output_type": "display_data"
    },
    {
     "name": "stdout",
     "output_type": "stream",
     "text": [
      "[08/15]  train MAE 0.5508 | val MAE 4.0109  (74.7s)\n"
     ]
    },
    {
     "data": {
      "application/vnd.jupyter.widget-view+json": {
       "model_id": "52065e9a295841e7895233263b6c34a6",
       "version_major": 2,
       "version_minor": 0
      },
      "text/plain": [
       "Batch:   0%|          | 0/313 [00:00<?, ?it/s]"
      ]
     },
     "metadata": {},
     "output_type": "display_data"
    },
    {
     "data": {
      "application/vnd.jupyter.widget-view+json": {
       "model_id": "68c261694538466c948725ab66ba1c3e",
       "version_major": 2,
       "version_minor": 0
      },
      "text/plain": [
       "Batch:   0%|          | 0/40 [00:00<?, ?it/s]"
      ]
     },
     "metadata": {},
     "output_type": "display_data"
    },
    {
     "name": "stdout",
     "output_type": "stream",
     "text": [
      "[09/15]  train MAE 0.5443 | val MAE 2.3417  (76.2s)\n"
     ]
    },
    {
     "data": {
      "application/vnd.jupyter.widget-view+json": {
       "model_id": "e819b1f8e4b44cb5ae24b7729e47745a",
       "version_major": 2,
       "version_minor": 0
      },
      "text/plain": [
       "Batch:   0%|          | 0/313 [00:00<?, ?it/s]"
      ]
     },
     "metadata": {},
     "output_type": "display_data"
    },
    {
     "data": {
      "application/vnd.jupyter.widget-view+json": {
       "model_id": "506fd316f05c4221948d121610698661",
       "version_major": 2,
       "version_minor": 0
      },
      "text/plain": [
       "Batch:   0%|          | 0/40 [00:00<?, ?it/s]"
      ]
     },
     "metadata": {},
     "output_type": "display_data"
    },
    {
     "name": "stdout",
     "output_type": "stream",
     "text": [
      "[10/15]  train MAE 0.5247 | val MAE 5.2432  (74.9s)\n"
     ]
    },
    {
     "data": {
      "application/vnd.jupyter.widget-view+json": {
       "model_id": "1b44172217af4fc1b25a35ace912ff1b",
       "version_major": 2,
       "version_minor": 0
      },
      "text/plain": [
       "Batch:   0%|          | 0/313 [00:00<?, ?it/s]"
      ]
     },
     "metadata": {},
     "output_type": "display_data"
    },
    {
     "data": {
      "application/vnd.jupyter.widget-view+json": {
       "model_id": "96b9556f521f470595f1cd16ee700f92",
       "version_major": 2,
       "version_minor": 0
      },
      "text/plain": [
       "Batch:   0%|          | 0/40 [00:00<?, ?it/s]"
      ]
     },
     "metadata": {},
     "output_type": "display_data"
    },
    {
     "name": "stdout",
     "output_type": "stream",
     "text": [
      "[11/15]  train MAE 0.5099 | val MAE 3.4969  (73.3s)\n"
     ]
    },
    {
     "data": {
      "application/vnd.jupyter.widget-view+json": {
       "model_id": "5ac278536dd74bfa9aef0238ec276ef8",
       "version_major": 2,
       "version_minor": 0
      },
      "text/plain": [
       "Batch:   0%|          | 0/313 [00:00<?, ?it/s]"
      ]
     },
     "metadata": {},
     "output_type": "display_data"
    },
    {
     "data": {
      "application/vnd.jupyter.widget-view+json": {
       "model_id": "b355372f8f76492f89be791d729376d9",
       "version_major": 2,
       "version_minor": 0
      },
      "text/plain": [
       "Batch:   0%|          | 0/40 [00:00<?, ?it/s]"
      ]
     },
     "metadata": {},
     "output_type": "display_data"
    },
    {
     "name": "stdout",
     "output_type": "stream",
     "text": [
      "[12/15]  train MAE 0.5016 | val MAE 4.3859  (75.0s)\n"
     ]
    },
    {
     "data": {
      "application/vnd.jupyter.widget-view+json": {
       "model_id": "825b145681634f2395890b7c4d6b5c56",
       "version_major": 2,
       "version_minor": 0
      },
      "text/plain": [
       "Batch:   0%|          | 0/313 [00:00<?, ?it/s]"
      ]
     },
     "metadata": {},
     "output_type": "display_data"
    },
    {
     "data": {
      "application/vnd.jupyter.widget-view+json": {
       "model_id": "3f113270c979483e99cabff1bad102ec",
       "version_major": 2,
       "version_minor": 0
      },
      "text/plain": [
       "Batch:   0%|          | 0/40 [00:00<?, ?it/s]"
      ]
     },
     "metadata": {},
     "output_type": "display_data"
    },
    {
     "name": "stdout",
     "output_type": "stream",
     "text": [
      "[13/15]  train MAE 0.4877 | val MAE 2.1741  (74.4s)\n"
     ]
    },
    {
     "data": {
      "application/vnd.jupyter.widget-view+json": {
       "model_id": "c199218cef46488b8905af0924fdc9bb",
       "version_major": 2,
       "version_minor": 0
      },
      "text/plain": [
       "Batch:   0%|          | 0/313 [00:00<?, ?it/s]"
      ]
     },
     "metadata": {},
     "output_type": "display_data"
    },
    {
     "data": {
      "application/vnd.jupyter.widget-view+json": {
       "model_id": "36f1b8eab5af44e79f7b035af033bab2",
       "version_major": 2,
       "version_minor": 0
      },
      "text/plain": [
       "Batch:   0%|          | 0/40 [00:00<?, ?it/s]"
      ]
     },
     "metadata": {},
     "output_type": "display_data"
    },
    {
     "name": "stdout",
     "output_type": "stream",
     "text": [
      "[14/15]  train MAE 0.4675 | val MAE 6.9917  (73.6s)\n"
     ]
    },
    {
     "data": {
      "application/vnd.jupyter.widget-view+json": {
       "model_id": "2b2149d888e74147b951d9e1bc081e70",
       "version_major": 2,
       "version_minor": 0
      },
      "text/plain": [
       "Batch:   0%|          | 0/313 [00:00<?, ?it/s]"
      ]
     },
     "metadata": {},
     "output_type": "display_data"
    },
    {
     "data": {
      "application/vnd.jupyter.widget-view+json": {
       "model_id": "d16a412687784dbe89f7582b4a4e5023",
       "version_major": 2,
       "version_minor": 0
      },
      "text/plain": [
       "Batch:   0%|          | 0/40 [00:00<?, ?it/s]"
      ]
     },
     "metadata": {},
     "output_type": "display_data"
    },
    {
     "name": "stdout",
     "output_type": "stream",
     "text": [
      "[15/15]  train MAE 0.4613 | val MAE 12.4235  (73.2s)\n"
     ]
    }
   ],
   "source": [
    "train_curve, val_curve = [], []\n",
    "best_val = float(\"inf\")\n",
    "\n",
    "for epoch in trange(1, NUM_EPOCHS+1, desc=\"Epoch\"):\n",
    "    t0 = time.time()\n",
    "    tr_loss = run_epoch(net, train_ld, train=True)\n",
    "    val_loss = run_epoch(net, val_ld,   train=False)\n",
    "\n",
    "    train_curve.append(tr_loss)\n",
    "    val_curve.append(val_loss)\n",
    "\n",
    "    # -- console log\n",
    "    print(f\"[{epoch:02d}/{NUM_EPOCHS}]  \"\n",
    "          f\"train MAE {tr_loss:.4f} | val MAE {val_loss:.4f}  \"\n",
    "          f\"({time.time()-t0:.1f}s)\")\n",
    "\n",
    "    # -- checkpointing\n",
    "    last_path = EXP_DIR / \"last_weights.pt\"\n",
    "    best_path = EXP_DIR / \"best_weights.pt\"\n",
    "    torch.save({\"epoch\": epoch,\n",
    "                \"state_dict\": net.state_dict(),\n",
    "                \"train_loss\": tr_loss,\n",
    "                \"val_loss\": val_loss},\n",
    "               last_path)\n",
    "\n",
    "    if val_loss < best_val:\n",
    "        best_val = val_loss\n",
    "        shutil.copy(last_path, best_path)\n",
    "        print(f\"  ↳ new best! ({best_val:.4f}) checkpointed.\")"
   ]
  },
  {
   "cell_type": "code",
   "execution_count": 9,
   "id": "d363d71b",
   "metadata": {},
   "outputs": [
    {
     "data": {
      "image/png": "[encoded data removed]",
      "text/plain": [
       "<Figure size 640x480 with 1 Axes>"
      ]
     },
     "metadata": {},
     "output_type": "display_data"
    }
   ],
   "source": [
    "# -- plot log-log learning curves\n",
    "steps = np.arange(1, len(train_curve)+1)\n",
    "plt.figure()\n",
    "plt.loglog(steps, train_curve, label=\"train\")\n",
    "plt.loglog(steps, val_curve,   label=\"val\")\n",
    "plt.xlabel(\"Epoch\")\n",
    "plt.ylabel(\"MAE (log)\")\n",
    "plt.legend()\n",
    "plt.grid(True, which=\"both\")\n",
    "plt.title(\"Learning curves (log-log)\")\n",
    "plt.savefig(EXP_DIR / \"loss_curve.png\", dpi=150)\n",
    "plt.show()"
   ]
  },
  {
   "cell_type": "markdown",
   "id": "11d7eea7",
   "metadata": {},
   "source": [
    "## Evaluate Model"
   ]
  },
  {
   "cell_type": "code",
   "execution_count": 59,
   "id": "9c26de64",
   "metadata": {},
   "outputs": [
    {
     "name": "stderr",
     "output_type": "stream",
     "text": [
      "C:\\Users\\Owner\\AppData\\Local\\Temp\\ipykernel_71012\\3979578127.py:1: FutureWarning: You are using `torch.load` with `weights_only=False` (the current default value), which uses the default pickle module implicitly. It is possible to construct malicious pickle data which will execute arbitrary code during unpickling (See https://github.com/pytorch/pytorch/blob/main/SECURITY.md#untrusted-models for more details). In a future release, the default value for `weights_only` will be flipped to `True`. This limits the functions that could be executed during unpickling. Arbitrary objects will no longer be allowed to be loaded via this mode unless they are explicitly allowlisted by the user via `torch.serialization.add_safe_globals`. We recommend you start setting `weights_only=True` for any use case where you don't have full control of the loaded file. Please open an issue on GitHub for any issues related to this experimental feature.\n",
      "  net.load_state_dict(torch.load(EXP_DIR / \"best_weights.pt\")['state_dict'])\n"
     ]
    },
    {
     "ename": "FileNotFoundError",
     "evalue": "[Errno 2] No such file or directory: 'experiments\\\\exp_20250602_160724\\\\best_weights.pt'",
     "output_type": "error",
     "traceback": [
      "\u001b[1;31m---------------------------------------------------------------------------\u001b[0m",
      "\u001b[1;31mFileNotFoundError\u001b[0m                         Traceback (most recent call last)",
      "Cell \u001b[1;32mIn[59], line 1\u001b[0m\n\u001b[1;32m----> 1\u001b[0m net\u001b[38;5;241m.\u001b[39mload_state_dict(\u001b[43mtorch\u001b[49m\u001b[38;5;241;43m.\u001b[39;49m\u001b[43mload\u001b[49m\u001b[43m(\u001b[49m\u001b[43mEXP_DIR\u001b[49m\u001b[43m \u001b[49m\u001b[38;5;241;43m/\u001b[39;49m\u001b[43m \u001b[49m\u001b[38;5;124;43m\"\u001b[39;49m\u001b[38;5;124;43mbest_weights.pt\u001b[39;49m\u001b[38;5;124;43m\"\u001b[39;49m\u001b[43m)\u001b[49m[\u001b[38;5;124m'\u001b[39m\u001b[38;5;124mstate_dict\u001b[39m\u001b[38;5;124m'\u001b[39m])\n\u001b[0;32m      2\u001b[0m net\u001b[38;5;241m.\u001b[39meval()\n",
      "File \u001b[1;32mc:\\Users\\Owner\\anaconda3\\envs\\diffusion\\Lib\\site-packages\\torch\\serialization.py:1319\u001b[0m, in \u001b[0;36mload\u001b[1;34m(f, map_location, pickle_module, weights_only, mmap, **pickle_load_args)\u001b[0m\n\u001b[0;32m   1316\u001b[0m \u001b[38;5;28;01mif\u001b[39;00m \u001b[38;5;124m\"\u001b[39m\u001b[38;5;124mencoding\u001b[39m\u001b[38;5;124m\"\u001b[39m \u001b[38;5;129;01mnot\u001b[39;00m \u001b[38;5;129;01min\u001b[39;00m pickle_load_args\u001b[38;5;241m.\u001b[39mkeys():\n\u001b[0;32m   1317\u001b[0m     pickle_load_args[\u001b[38;5;124m\"\u001b[39m\u001b[38;5;124mencoding\u001b[39m\u001b[38;5;124m\"\u001b[39m] \u001b[38;5;241m=\u001b[39m \u001b[38;5;124m\"\u001b[39m\u001b[38;5;124mutf-8\u001b[39m\u001b[38;5;124m\"\u001b[39m\n\u001b[1;32m-> 1319\u001b[0m \u001b[38;5;28;01mwith\u001b[39;00m \u001b[43m_open_file_like\u001b[49m\u001b[43m(\u001b[49m\u001b[43mf\u001b[49m\u001b[43m,\u001b[49m\u001b[43m \u001b[49m\u001b[38;5;124;43m\"\u001b[39;49m\u001b[38;5;124;43mrb\u001b[39;49m\u001b[38;5;124;43m\"\u001b[39;49m\u001b[43m)\u001b[49m \u001b[38;5;28;01mas\u001b[39;00m opened_file:\n\u001b[0;32m   1320\u001b[0m     \u001b[38;5;28;01mif\u001b[39;00m _is_zipfile(opened_file):\n\u001b[0;32m   1321\u001b[0m         \u001b[38;5;66;03m# The zipfile reader is going to advance the current file position.\u001b[39;00m\n\u001b[0;32m   1322\u001b[0m         \u001b[38;5;66;03m# If we want to actually tail call to torch.jit.load, we need to\u001b[39;00m\n\u001b[0;32m   1323\u001b[0m         \u001b[38;5;66;03m# reset back to the original position.\u001b[39;00m\n\u001b[0;32m   1324\u001b[0m         orig_position \u001b[38;5;241m=\u001b[39m opened_file\u001b[38;5;241m.\u001b[39mtell()\n",
      "File \u001b[1;32mc:\\Users\\Owner\\anaconda3\\envs\\diffusion\\Lib\\site-packages\\torch\\serialization.py:659\u001b[0m, in \u001b[0;36m_open_file_like\u001b[1;34m(name_or_buffer, mode)\u001b[0m\n\u001b[0;32m    657\u001b[0m \u001b[38;5;28;01mdef\u001b[39;00m \u001b[38;5;21m_open_file_like\u001b[39m(name_or_buffer, mode):\n\u001b[0;32m    658\u001b[0m     \u001b[38;5;28;01mif\u001b[39;00m _is_path(name_or_buffer):\n\u001b[1;32m--> 659\u001b[0m         \u001b[38;5;28;01mreturn\u001b[39;00m \u001b[43m_open_file\u001b[49m\u001b[43m(\u001b[49m\u001b[43mname_or_buffer\u001b[49m\u001b[43m,\u001b[49m\u001b[43m \u001b[49m\u001b[43mmode\u001b[49m\u001b[43m)\u001b[49m\n\u001b[0;32m    660\u001b[0m     \u001b[38;5;28;01melse\u001b[39;00m:\n\u001b[0;32m    661\u001b[0m         \u001b[38;5;28;01mif\u001b[39;00m \u001b[38;5;124m\"\u001b[39m\u001b[38;5;124mw\u001b[39m\u001b[38;5;124m\"\u001b[39m \u001b[38;5;129;01min\u001b[39;00m mode:\n",
      "File \u001b[1;32mc:\\Users\\Owner\\anaconda3\\envs\\diffusion\\Lib\\site-packages\\torch\\serialization.py:640\u001b[0m, in \u001b[0;36m_open_file.__init__\u001b[1;34m(self, name, mode)\u001b[0m\n\u001b[0;32m    639\u001b[0m \u001b[38;5;28;01mdef\u001b[39;00m \u001b[38;5;21m__init__\u001b[39m(\u001b[38;5;28mself\u001b[39m, name, mode):\n\u001b[1;32m--> 640\u001b[0m     \u001b[38;5;28msuper\u001b[39m()\u001b[38;5;241m.\u001b[39m\u001b[38;5;21m__init__\u001b[39m(\u001b[38;5;28;43mopen\u001b[39;49m\u001b[43m(\u001b[49m\u001b[43mname\u001b[49m\u001b[43m,\u001b[49m\u001b[43m \u001b[49m\u001b[43mmode\u001b[49m\u001b[43m)\u001b[49m)\n",
      "\u001b[1;31mFileNotFoundError\u001b[0m: [Errno 2] No such file or directory: 'experiments\\\\exp_20250602_160724\\\\best_weights.pt'"
     ]
    }
   ],
   "source": [
    "net.load_state_dict(torch.load(EXP_DIR / \"best_weights.pt\")['state_dict'])\n",
    "net.eval()"
   ]
  },
  {
   "cell_type": "code",
   "execution_count": 34,
   "id": "16fdbae9",
   "metadata": {},
   "outputs": [],
   "source": [
    "def evaluate_split(loader):\n",
    "    net.eval()\n",
    "    errs = []\n",
    "    with torch.no_grad():\n",
    "        for x, y in loader:\n",
    "            pred = net(x.to(DEVICE)).cpu().squeeze(1)\n",
    "            errs.append(torch.abs(pred - y).numpy())\n",
    "    errs = np.concatenate(errs)\n",
    "    return errs.mean(), errs.std()\n",
    "\n",
    "mae_train, std_train = evaluate_split(train_ld)\n",
    "mae_val,   std_val   = evaluate_split(val_ld)\n",
    "mae_test,  std_test  = evaluate_split(test_ld)"
   ]
  },
  {
   "cell_type": "code",
   "execution_count": null,
   "id": "2775920f",
   "metadata": {},
   "outputs": [
    {
     "data": {
      "image/png": "[encoded data removed]",
      "text/plain": [
       "<Figure size 640x480 with 1 Axes>"
      ]
     },
     "metadata": {},
     "output_type": "display_data"
    },
    {
     "name": "stdout",
     "output_type": "stream",
     "text": [
      "MAE  train 0.528 ± 0.466\n",
      "MAE  val   0.579 ± 0.507\n",
      "MAE  test  0.590 ± 0.524\n"
     ]
    }
   ],
   "source": [
    "labels = [\"train\", \"val\", \"test\"]\n",
    "means  = [mae_train, mae_val, mae_test]\n",
    "stds   = [std_train, std_val, std_test]\n",
    "\n",
    "plt.figure()\n",
    "plt.bar(labels, means, yerr=stds, capsize=5)\n",
    "plt.ylabel(\"MAE (px)\")\n",
    "plt.title(\"Absolute-error distribution\")\n",
    "plt.savefig(EXP_DIR / \"error_bars.png\", dpi=150)\n",
    "plt.show()\n",
    "\n",
    "print(f\"MAE  train {mae_train:.3f} ± {std_train:.3f}\")\n",
    "print(f\"MAE  val   {mae_val:.3f} ± {std_val:.3f}\")\n",
    "print(f\"MAE  test  {mae_test:.3f} ± {std_test:.3f}\")"
   ]
  },
  {
   "cell_type": "code",
   "execution_count": 57,
   "id": "65d3aaef",
   "metadata": {},
   "outputs": [
    {
     "name": "stderr",
     "output_type": "stream",
     "text": [
      "Clipping input data to the valid range for imshow with RGB data ([0..1] for floats or [0..255] for integers). Got range [-0.84705883..0.84705883].\n"
     ]
    },
    {
     "data": {
      "image/png": "[encoded data removed]",
      "text/plain": [
       "<Figure size 800x300 with 3 Axes>"
      ]
     },
     "metadata": {},
     "output_type": "display_data"
    },
    {
     "name": "stderr",
     "output_type": "stream",
     "text": [
      "Clipping input data to the valid range for imshow with RGB data ([0..1] for floats or [0..255] for integers). Got range [-0.9764706..0.9764706].\n"
     ]
    },
    {
     "data": {
      "image/png": "[encoded data removed]",
      "text/plain": [
       "<Figure size 800x300 with 3 Axes>"
      ]
     },
     "metadata": {},
     "output_type": "display_data"
    },
    {
     "name": "stderr",
     "output_type": "stream",
     "text": [
      "Clipping input data to the valid range for imshow with RGB data ([0..1] for floats or [0..255] for integers). Got range [-0.99215686..0.99215686].\n"
     ]
    },
    {
     "data": {
      "image/png": "[encoded data removed]",
      "text/plain": [
       "<Figure size 800x300 with 3 Axes>"
      ]
     },
     "metadata": {},
     "output_type": "display_data"
    }
   ],
   "source": [
    "def show_example(dataset, title_prefix=\"\"):\n",
    "    idx = random.randrange(len(dataset))\n",
    "    (x, y_true) = dataset[idx]          # x: (C,H,W) float\n",
    "    f0 = x[:3] if not USE_GRAYSCALE else x[0:1].repeat(3,1,1)\n",
    "    f1 = x[3:6] if not USE_GRAYSCALE else x[1:2].repeat(3,1,1)\n",
    "\n",
    "    with torch.no_grad():\n",
    "        pred = net(x.unsqueeze(0).to(DEVICE)).cpu().item()\n",
    "\n",
    "    f0_img = f0.permute(1,2,0).numpy()\n",
    "    f1_img = f1.permute(1,2,0).numpy()\n",
    "    diff   = (f1_img - f0_img)\n",
    "\n",
    "    plt.figure(figsize=(8,3))\n",
    "    plt.subplot(1,3,1); plt.imshow(f0_img); plt.title(\"t\");     plt.axis(\"off\")\n",
    "    plt.subplot(1,3,2); plt.imshow(f1_img); plt.title(\"t+1\");   plt.axis(\"off\")\n",
    "    plt.subplot(1,3,3); plt.imshow(diff, cmap=\"bwr\", vmin=-1, vmax=1)\n",
    "    plt.title(f\"GT={y_true:.1f} | Pred={pred:.1f}\")\n",
    "    plt.axis(\"off\")\n",
    "    plt.suptitle(title_prefix)\n",
    "    plt.tight_layout()\n",
    "    plt.show()\n",
    "\n",
    "# Show a few random examples from each split\n",
    "for split_name, ds in [(\"Train\", train_ds), (\"Val\", val_ds), (\"Test\", test_ds)]:\n",
    "    show_example(ds, title_prefix=split_name)"
   ]
  }
 ],
 "metadata": {
  "kernelspec": {
   "display_name": "diffusion",
   "language": "python",
   "name": "python3"
  },
  "language_info": {
   "codemirror_mode": {
    "name": "ipython",
    "version": 3
   },
   "file_extension": ".py",
   "mimetype": "text/x-python",
   "name": "python",
   "nbconvert_exporter": "python",
   "pygments_lexer": "ipython3",
   "version": "3.12.7"
  }
 },
 "nbformat": 4,
 "nbformat_minor": 5
}
